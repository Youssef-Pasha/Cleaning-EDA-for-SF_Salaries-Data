{
 "cells": [
  {
   "cell_type": "markdown",
   "id": "8d81b7f2",
   "metadata": {
    "papermill": {
     "duration": 0.048905,
     "end_time": "2022-04-25T22:56:51.154966",
     "exception": false,
     "start_time": "2022-04-25T22:56:51.106061",
     "status": "completed"
    },
    "tags": []
   },
   "source": [
    "# **Import Libraries**"
   ]
  },
  {
   "cell_type": "code",
   "execution_count": 1,
   "id": "96935724",
   "metadata": {
    "execution": {
     "iopub.execute_input": "2022-04-25T22:56:51.253139Z",
     "iopub.status.busy": "2022-04-25T22:56:51.252593Z",
     "iopub.status.idle": "2022-04-25T22:56:52.389992Z",
     "shell.execute_reply": "2022-04-25T22:56:52.389089Z"
    },
    "papermill": {
     "duration": 1.190696,
     "end_time": "2022-04-25T22:56:52.392742",
     "exception": false,
     "start_time": "2022-04-25T22:56:51.202046",
     "status": "completed"
    },
    "tags": []
   },
   "outputs": [],
   "source": [
    "import pandas as pd\n",
    "import numpy as np\n",
    "import seaborn as sns\n",
    "import matplotlib.pyplot as plt"
   ]
  },
  {
   "cell_type": "markdown",
   "id": "554af447",
   "metadata": {
    "papermill": {
     "duration": 0.047512,
     "end_time": "2022-04-25T22:56:52.489273",
     "exception": false,
     "start_time": "2022-04-25T22:56:52.441761",
     "status": "completed"
    },
    "tags": []
   },
   "source": [
    "# **Data Wrangling**"
   ]
  },
  {
   "cell_type": "markdown",
   "id": "1a49f5f7",
   "metadata": {
    "papermill": {
     "duration": 0.047399,
     "end_time": "2022-04-25T22:56:52.584472",
     "exception": false,
     "start_time": "2022-04-25T22:56:52.537073",
     "status": "completed"
    },
    "tags": []
   },
   "source": [
    "## **Load Data**"
   ]
  },
  {
   "cell_type": "code",
   "execution_count": 2,
   "id": "1562d77b",
   "metadata": {
    "execution": {
     "iopub.execute_input": "2022-04-25T22:56:52.692011Z",
     "iopub.status.busy": "2022-04-25T22:56:52.691734Z",
     "iopub.status.idle": "2022-04-25T22:56:53.316171Z",
     "shell.execute_reply": "2022-04-25T22:56:53.315259Z"
    },
    "papermill": {
     "duration": 0.684578,
     "end_time": "2022-04-25T22:56:53.319162",
     "exception": false,
     "start_time": "2022-04-25T22:56:52.634584",
     "status": "completed"
    },
    "tags": []
   },
   "outputs": [
    {
     "name": "stderr",
     "output_type": "stream",
     "text": [
      "/opt/conda/lib/python3.7/site-packages/IPython/core/interactiveshell.py:3524: DtypeWarning: Columns (3,4,5,6,12) have mixed types.Specify dtype option on import or set low_memory=False.\n",
      "  exec(code_obj, self.user_global_ns, self.user_ns)\n"
     ]
    }
   ],
   "source": [
    "df = pd.read_csv('../input/sf-salaries/Salaries.csv')"
   ]
  },
  {
   "cell_type": "markdown",
   "id": "07768be5",
   "metadata": {
    "papermill": {
     "duration": 0.047509,
     "end_time": "2022-04-25T22:56:53.420460",
     "exception": false,
     "start_time": "2022-04-25T22:56:53.372951",
     "status": "completed"
    },
    "tags": []
   },
   "source": [
    "## **Overview**"
   ]
  },
  {
   "cell_type": "code",
   "execution_count": 3,
   "id": "cb4a02be",
   "metadata": {
    "execution": {
     "iopub.execute_input": "2022-04-25T22:56:53.519998Z",
     "iopub.status.busy": "2022-04-25T22:56:53.519726Z",
     "iopub.status.idle": "2022-04-25T22:56:53.544476Z",
     "shell.execute_reply": "2022-04-25T22:56:53.543842Z"
    },
    "papermill": {
     "duration": 0.079071,
     "end_time": "2022-04-25T22:56:53.546788",
     "exception": false,
     "start_time": "2022-04-25T22:56:53.467717",
     "status": "completed"
    },
    "tags": []
   },
   "outputs": [
    {
     "data": {
      "text/html": [
       "<div>\n",
       "<style scoped>\n",
       "    .dataframe tbody tr th:only-of-type {\n",
       "        vertical-align: middle;\n",
       "    }\n",
       "\n",
       "    .dataframe tbody tr th {\n",
       "        vertical-align: top;\n",
       "    }\n",
       "\n",
       "    .dataframe thead th {\n",
       "        text-align: right;\n",
       "    }\n",
       "</style>\n",
       "<table border=\"1\" class=\"dataframe\">\n",
       "  <thead>\n",
       "    <tr style=\"text-align: right;\">\n",
       "      <th></th>\n",
       "      <th>Id</th>\n",
       "      <th>EmployeeName</th>\n",
       "      <th>JobTitle</th>\n",
       "      <th>BasePay</th>\n",
       "      <th>OvertimePay</th>\n",
       "      <th>OtherPay</th>\n",
       "      <th>Benefits</th>\n",
       "      <th>TotalPay</th>\n",
       "      <th>TotalPayBenefits</th>\n",
       "      <th>Year</th>\n",
       "      <th>Notes</th>\n",
       "      <th>Agency</th>\n",
       "      <th>Status</th>\n",
       "    </tr>\n",
       "  </thead>\n",
       "  <tbody>\n",
       "    <tr>\n",
       "      <th>0</th>\n",
       "      <td>1</td>\n",
       "      <td>NATHANIEL FORD</td>\n",
       "      <td>GENERAL MANAGER-METROPOLITAN TRANSIT AUTHORITY</td>\n",
       "      <td>167411.18</td>\n",
       "      <td>0.0</td>\n",
       "      <td>400184.25</td>\n",
       "      <td>NaN</td>\n",
       "      <td>567595.43</td>\n",
       "      <td>567595.43</td>\n",
       "      <td>2011</td>\n",
       "      <td>NaN</td>\n",
       "      <td>San Francisco</td>\n",
       "      <td>NaN</td>\n",
       "    </tr>\n",
       "    <tr>\n",
       "      <th>1</th>\n",
       "      <td>2</td>\n",
       "      <td>GARY JIMENEZ</td>\n",
       "      <td>CAPTAIN III (POLICE DEPARTMENT)</td>\n",
       "      <td>155966.02</td>\n",
       "      <td>245131.88</td>\n",
       "      <td>137811.38</td>\n",
       "      <td>NaN</td>\n",
       "      <td>538909.28</td>\n",
       "      <td>538909.28</td>\n",
       "      <td>2011</td>\n",
       "      <td>NaN</td>\n",
       "      <td>San Francisco</td>\n",
       "      <td>NaN</td>\n",
       "    </tr>\n",
       "    <tr>\n",
       "      <th>2</th>\n",
       "      <td>3</td>\n",
       "      <td>ALBERT PARDINI</td>\n",
       "      <td>CAPTAIN III (POLICE DEPARTMENT)</td>\n",
       "      <td>212739.13</td>\n",
       "      <td>106088.18</td>\n",
       "      <td>16452.6</td>\n",
       "      <td>NaN</td>\n",
       "      <td>335279.91</td>\n",
       "      <td>335279.91</td>\n",
       "      <td>2011</td>\n",
       "      <td>NaN</td>\n",
       "      <td>San Francisco</td>\n",
       "      <td>NaN</td>\n",
       "    </tr>\n",
       "    <tr>\n",
       "      <th>3</th>\n",
       "      <td>4</td>\n",
       "      <td>CHRISTOPHER CHONG</td>\n",
       "      <td>WIRE ROPE CABLE MAINTENANCE MECHANIC</td>\n",
       "      <td>77916.0</td>\n",
       "      <td>56120.71</td>\n",
       "      <td>198306.9</td>\n",
       "      <td>NaN</td>\n",
       "      <td>332343.61</td>\n",
       "      <td>332343.61</td>\n",
       "      <td>2011</td>\n",
       "      <td>NaN</td>\n",
       "      <td>San Francisco</td>\n",
       "      <td>NaN</td>\n",
       "    </tr>\n",
       "    <tr>\n",
       "      <th>4</th>\n",
       "      <td>5</td>\n",
       "      <td>PATRICK GARDNER</td>\n",
       "      <td>DEPUTY CHIEF OF DEPARTMENT,(FIRE DEPARTMENT)</td>\n",
       "      <td>134401.6</td>\n",
       "      <td>9737.0</td>\n",
       "      <td>182234.59</td>\n",
       "      <td>NaN</td>\n",
       "      <td>326373.19</td>\n",
       "      <td>326373.19</td>\n",
       "      <td>2011</td>\n",
       "      <td>NaN</td>\n",
       "      <td>San Francisco</td>\n",
       "      <td>NaN</td>\n",
       "    </tr>\n",
       "  </tbody>\n",
       "</table>\n",
       "</div>"
      ],
      "text/plain": [
       "   Id       EmployeeName                                        JobTitle  \\\n",
       "0   1     NATHANIEL FORD  GENERAL MANAGER-METROPOLITAN TRANSIT AUTHORITY   \n",
       "1   2       GARY JIMENEZ                 CAPTAIN III (POLICE DEPARTMENT)   \n",
       "2   3     ALBERT PARDINI                 CAPTAIN III (POLICE DEPARTMENT)   \n",
       "3   4  CHRISTOPHER CHONG            WIRE ROPE CABLE MAINTENANCE MECHANIC   \n",
       "4   5    PATRICK GARDNER    DEPUTY CHIEF OF DEPARTMENT,(FIRE DEPARTMENT)   \n",
       "\n",
       "     BasePay OvertimePay   OtherPay Benefits   TotalPay  TotalPayBenefits  \\\n",
       "0  167411.18         0.0  400184.25      NaN  567595.43         567595.43   \n",
       "1  155966.02   245131.88  137811.38      NaN  538909.28         538909.28   \n",
       "2  212739.13   106088.18    16452.6      NaN  335279.91         335279.91   \n",
       "3    77916.0    56120.71   198306.9      NaN  332343.61         332343.61   \n",
       "4   134401.6      9737.0  182234.59      NaN  326373.19         326373.19   \n",
       "\n",
       "   Year  Notes         Agency Status  \n",
       "0  2011    NaN  San Francisco    NaN  \n",
       "1  2011    NaN  San Francisco    NaN  \n",
       "2  2011    NaN  San Francisco    NaN  \n",
       "3  2011    NaN  San Francisco    NaN  \n",
       "4  2011    NaN  San Francisco    NaN  "
      ]
     },
     "execution_count": 3,
     "metadata": {},
     "output_type": "execute_result"
    }
   ],
   "source": [
    "df.head()"
   ]
  },
  {
   "cell_type": "code",
   "execution_count": 4,
   "id": "39173575",
   "metadata": {
    "execution": {
     "iopub.execute_input": "2022-04-25T22:56:53.644032Z",
     "iopub.status.busy": "2022-04-25T22:56:53.643418Z",
     "iopub.status.idle": "2022-04-25T22:56:53.756600Z",
     "shell.execute_reply": "2022-04-25T22:56:53.755731Z"
    },
    "papermill": {
     "duration": 0.1643,
     "end_time": "2022-04-25T22:56:53.758847",
     "exception": false,
     "start_time": "2022-04-25T22:56:53.594547",
     "status": "completed"
    },
    "tags": []
   },
   "outputs": [
    {
     "name": "stdout",
     "output_type": "stream",
     "text": [
      "<class 'pandas.core.frame.DataFrame'>\n",
      "RangeIndex: 148654 entries, 0 to 148653\n",
      "Data columns (total 13 columns):\n",
      " #   Column            Non-Null Count   Dtype  \n",
      "---  ------            --------------   -----  \n",
      " 0   Id                148654 non-null  int64  \n",
      " 1   EmployeeName      148654 non-null  object \n",
      " 2   JobTitle          148654 non-null  object \n",
      " 3   BasePay           148049 non-null  object \n",
      " 4   OvertimePay       148654 non-null  object \n",
      " 5   OtherPay          148654 non-null  object \n",
      " 6   Benefits          112495 non-null  object \n",
      " 7   TotalPay          148654 non-null  float64\n",
      " 8   TotalPayBenefits  148654 non-null  float64\n",
      " 9   Year              148654 non-null  int64  \n",
      " 10  Notes             0 non-null       float64\n",
      " 11  Agency            148654 non-null  object \n",
      " 12  Status            38119 non-null   object \n",
      "dtypes: float64(3), int64(2), object(8)\n",
      "memory usage: 14.7+ MB\n"
     ]
    }
   ],
   "source": [
    "# general information\n",
    "\n",
    "# total 13 columns\n",
    "# total 148 654 rows\n",
    "# incorrect data types\n",
    "# missing exist\n",
    "# unnecessary columns\n",
    "\n",
    "df.info()"
   ]
  },
  {
   "cell_type": "code",
   "execution_count": 5,
   "id": "f74c5382",
   "metadata": {
    "execution": {
     "iopub.execute_input": "2022-04-25T22:56:53.857124Z",
     "iopub.status.busy": "2022-04-25T22:56:53.856849Z",
     "iopub.status.idle": "2022-04-25T22:56:53.906657Z",
     "shell.execute_reply": "2022-04-25T22:56:53.905643Z"
    },
    "papermill": {
     "duration": 0.101818,
     "end_time": "2022-04-25T22:56:53.908845",
     "exception": false,
     "start_time": "2022-04-25T22:56:53.807027",
     "status": "completed"
    },
    "tags": []
   },
   "outputs": [
    {
     "data": {
      "text/html": [
       "<div>\n",
       "<style scoped>\n",
       "    .dataframe tbody tr th:only-of-type {\n",
       "        vertical-align: middle;\n",
       "    }\n",
       "\n",
       "    .dataframe tbody tr th {\n",
       "        vertical-align: top;\n",
       "    }\n",
       "\n",
       "    .dataframe thead th {\n",
       "        text-align: right;\n",
       "    }\n",
       "</style>\n",
       "<table border=\"1\" class=\"dataframe\">\n",
       "  <thead>\n",
       "    <tr style=\"text-align: right;\">\n",
       "      <th></th>\n",
       "      <th>Id</th>\n",
       "      <th>TotalPay</th>\n",
       "      <th>TotalPayBenefits</th>\n",
       "      <th>Year</th>\n",
       "      <th>Notes</th>\n",
       "    </tr>\n",
       "  </thead>\n",
       "  <tbody>\n",
       "    <tr>\n",
       "      <th>count</th>\n",
       "      <td>148654.000000</td>\n",
       "      <td>148654.000000</td>\n",
       "      <td>148654.000000</td>\n",
       "      <td>148654.000000</td>\n",
       "      <td>0.0</td>\n",
       "    </tr>\n",
       "    <tr>\n",
       "      <th>mean</th>\n",
       "      <td>74327.500000</td>\n",
       "      <td>74768.321972</td>\n",
       "      <td>93692.554811</td>\n",
       "      <td>2012.522643</td>\n",
       "      <td>NaN</td>\n",
       "    </tr>\n",
       "    <tr>\n",
       "      <th>std</th>\n",
       "      <td>42912.857795</td>\n",
       "      <td>50517.005274</td>\n",
       "      <td>62793.533483</td>\n",
       "      <td>1.117538</td>\n",
       "      <td>NaN</td>\n",
       "    </tr>\n",
       "    <tr>\n",
       "      <th>min</th>\n",
       "      <td>1.000000</td>\n",
       "      <td>-618.130000</td>\n",
       "      <td>-618.130000</td>\n",
       "      <td>2011.000000</td>\n",
       "      <td>NaN</td>\n",
       "    </tr>\n",
       "    <tr>\n",
       "      <th>25%</th>\n",
       "      <td>37164.250000</td>\n",
       "      <td>36168.995000</td>\n",
       "      <td>44065.650000</td>\n",
       "      <td>2012.000000</td>\n",
       "      <td>NaN</td>\n",
       "    </tr>\n",
       "    <tr>\n",
       "      <th>50%</th>\n",
       "      <td>74327.500000</td>\n",
       "      <td>71426.610000</td>\n",
       "      <td>92404.090000</td>\n",
       "      <td>2013.000000</td>\n",
       "      <td>NaN</td>\n",
       "    </tr>\n",
       "    <tr>\n",
       "      <th>75%</th>\n",
       "      <td>111490.750000</td>\n",
       "      <td>105839.135000</td>\n",
       "      <td>132876.450000</td>\n",
       "      <td>2014.000000</td>\n",
       "      <td>NaN</td>\n",
       "    </tr>\n",
       "    <tr>\n",
       "      <th>max</th>\n",
       "      <td>148654.000000</td>\n",
       "      <td>567595.430000</td>\n",
       "      <td>567595.430000</td>\n",
       "      <td>2014.000000</td>\n",
       "      <td>NaN</td>\n",
       "    </tr>\n",
       "  </tbody>\n",
       "</table>\n",
       "</div>"
      ],
      "text/plain": [
       "                  Id       TotalPay  TotalPayBenefits           Year  Notes\n",
       "count  148654.000000  148654.000000     148654.000000  148654.000000    0.0\n",
       "mean    74327.500000   74768.321972      93692.554811    2012.522643    NaN\n",
       "std     42912.857795   50517.005274      62793.533483       1.117538    NaN\n",
       "min         1.000000    -618.130000       -618.130000    2011.000000    NaN\n",
       "25%     37164.250000   36168.995000      44065.650000    2012.000000    NaN\n",
       "50%     74327.500000   71426.610000      92404.090000    2013.000000    NaN\n",
       "75%    111490.750000  105839.135000     132876.450000    2014.000000    NaN\n",
       "max    148654.000000  567595.430000     567595.430000    2014.000000    NaN"
      ]
     },
     "execution_count": 5,
     "metadata": {},
     "output_type": "execute_result"
    }
   ],
   "source": [
    "# statistical information\n",
    "\n",
    "df.describe()"
   ]
  },
  {
   "cell_type": "markdown",
   "id": "455c99fc",
   "metadata": {
    "papermill": {
     "duration": 0.049677,
     "end_time": "2022-04-25T22:56:54.008928",
     "exception": false,
     "start_time": "2022-04-25T22:56:53.959251",
     "status": "completed"
    },
    "tags": []
   },
   "source": [
    "## **Data Cleaning**"
   ]
  },
  {
   "cell_type": "markdown",
   "id": "553d7b74",
   "metadata": {
    "papermill": {
     "duration": 0.048596,
     "end_time": "2022-04-25T22:56:54.108649",
     "exception": false,
     "start_time": "2022-04-25T22:56:54.060053",
     "status": "completed"
    },
    "tags": []
   },
   "source": [
    "###  Modify data types in columns"
   ]
  },
  {
   "cell_type": "code",
   "execution_count": 6,
   "id": "46b7840b",
   "metadata": {
    "execution": {
     "iopub.execute_input": "2022-04-25T22:56:54.209031Z",
     "iopub.status.busy": "2022-04-25T22:56:54.208753Z",
     "iopub.status.idle": "2022-04-25T22:56:54.452915Z",
     "shell.execute_reply": "2022-04-25T22:56:54.451895Z"
    },
    "papermill": {
     "duration": 0.297108,
     "end_time": "2022-04-25T22:56:54.455283",
     "exception": false,
     "start_time": "2022-04-25T22:56:54.158175",
     "status": "completed"
    },
    "tags": []
   },
   "outputs": [
    {
     "name": "stdout",
     "output_type": "stream",
     "text": [
      "<class 'pandas.core.frame.DataFrame'>\n",
      "RangeIndex: 148654 entries, 0 to 148653\n",
      "Data columns (total 13 columns):\n",
      " #   Column            Non-Null Count   Dtype  \n",
      "---  ------            --------------   -----  \n",
      " 0   Id                148654 non-null  int64  \n",
      " 1   EmployeeName      148654 non-null  string \n",
      " 2   JobTitle          148654 non-null  string \n",
      " 3   BasePay           148045 non-null  float64\n",
      " 4   OvertimePay       148650 non-null  float64\n",
      " 5   OtherPay          148650 non-null  float64\n",
      " 6   Benefits          112491 non-null  float64\n",
      " 7   TotalPay          148654 non-null  float64\n",
      " 8   TotalPayBenefits  148654 non-null  float64\n",
      " 9   Year              148654 non-null  int64  \n",
      " 10  Notes             0 non-null       float64\n",
      " 11  Agency            148654 non-null  string \n",
      " 12  Status            38119 non-null   object \n",
      "dtypes: float64(7), int64(2), object(1), string(3)\n",
      "memory usage: 14.7+ MB\n"
     ]
    }
   ],
   "source": [
    "# convert numeric columns to float instead of object.\n",
    "df['BasePay'] = pd.to_numeric(df['BasePay'],errors='coerce')\n",
    "df['OvertimePay'] = pd.to_numeric(df['OvertimePay'],errors='coerce')\n",
    "df['OtherPay'] = pd.to_numeric(df['OtherPay'],errors='coerce')\n",
    "df['Benefits'] = pd.to_numeric(df['Benefits'],errors='coerce')\n",
    "df['TotalPay'] = pd.to_numeric(df['TotalPay'],errors='coerce')\n",
    "df['TotalPayBenefits'] = pd.to_numeric(df['TotalPayBenefits'],errors='coerce')\n",
    "\n",
    "# not necessary\n",
    "# convert Year column from integer to datetime type\n",
    "# df['Year'] = pd.to_datetime(df.Year, format='%Y')\n",
    "\n",
    "# convert text column to string\n",
    "df['EmployeeName'] = df['EmployeeName'].astype('string')\n",
    "df['JobTitle'] = df['JobTitle'].astype('string')\n",
    "df['Agency'] = df['Agency'].astype('string')\n",
    "\n",
    "# confirm changes\n",
    "df.info()"
   ]
  },
  {
   "cell_type": "markdown",
   "id": "fe1d5d9b",
   "metadata": {
    "papermill": {
     "duration": 0.0496,
     "end_time": "2022-04-25T22:56:54.556266",
     "exception": false,
     "start_time": "2022-04-25T22:56:54.506666",
     "status": "completed"
    },
    "tags": []
   },
   "source": [
    "### Missing Values"
   ]
  },
  {
   "cell_type": "code",
   "execution_count": 7,
   "id": "b51f6247",
   "metadata": {
    "execution": {
     "iopub.execute_input": "2022-04-25T22:56:54.656868Z",
     "iopub.status.busy": "2022-04-25T22:56:54.656594Z",
     "iopub.status.idle": "2022-04-25T22:56:54.725666Z",
     "shell.execute_reply": "2022-04-25T22:56:54.724840Z"
    },
    "papermill": {
     "duration": 0.121528,
     "end_time": "2022-04-25T22:56:54.727803",
     "exception": false,
     "start_time": "2022-04-25T22:56:54.606275",
     "status": "completed"
    },
    "tags": []
   },
   "outputs": [
    {
     "data": {
      "text/plain": [
       "Id                       0\n",
       "EmployeeName             0\n",
       "JobTitle                 0\n",
       "BasePay                609\n",
       "OvertimePay              4\n",
       "OtherPay                 4\n",
       "Benefits             36163\n",
       "TotalPay                 0\n",
       "TotalPayBenefits         0\n",
       "Year                     0\n",
       "Notes               148654\n",
       "Agency                   0\n",
       "Status              110535\n",
       "dtype: int64"
      ]
     },
     "execution_count": 7,
     "metadata": {},
     "output_type": "execute_result"
    }
   ],
   "source": [
    "# missing values\n",
    "\n",
    "df.isnull().sum()"
   ]
  },
  {
   "cell_type": "code",
   "execution_count": 8,
   "id": "ddbbb5d4",
   "metadata": {
    "execution": {
     "iopub.execute_input": "2022-04-25T22:56:54.831049Z",
     "iopub.status.busy": "2022-04-25T22:56:54.830748Z",
     "iopub.status.idle": "2022-04-25T22:56:54.845121Z",
     "shell.execute_reply": "2022-04-25T22:56:54.844365Z"
    },
    "papermill": {
     "duration": 0.067482,
     "end_time": "2022-04-25T22:56:54.847279",
     "exception": false,
     "start_time": "2022-04-25T22:56:54.779797",
     "status": "completed"
    },
    "tags": []
   },
   "outputs": [],
   "source": [
    "# ['Notes', 'Status'] columns is full of missing values and irreplaceable values, so we going to drop it.\n",
    "\n",
    "df.drop(columns = ['Notes','Status'], inplace=True)"
   ]
  },
  {
   "cell_type": "code",
   "execution_count": 9,
   "id": "3f12eb20",
   "metadata": {
    "execution": {
     "iopub.execute_input": "2022-04-25T22:56:54.948130Z",
     "iopub.status.busy": "2022-04-25T22:56:54.947340Z",
     "iopub.status.idle": "2022-04-25T22:56:54.954565Z",
     "shell.execute_reply": "2022-04-25T22:56:54.953703Z"
    },
    "papermill": {
     "duration": 0.060084,
     "end_time": "2022-04-25T22:56:54.956834",
     "exception": false,
     "start_time": "2022-04-25T22:56:54.896750",
     "status": "completed"
    },
    "tags": []
   },
   "outputs": [],
   "source": [
    "# The number of missing values in BasePay is relatively few so it would be appropriate to fill it in with an average.\n",
    "\n",
    "base_pay_mean = df.BasePay.mean()\n",
    "df['BasePay'] = df['BasePay'].fillna(base_pay_mean)"
   ]
  },
  {
   "cell_type": "code",
   "execution_count": 10,
   "id": "e6f1cf1c",
   "metadata": {
    "execution": {
     "iopub.execute_input": "2022-04-25T22:56:55.058294Z",
     "iopub.status.busy": "2022-04-25T22:56:55.057981Z",
     "iopub.status.idle": "2022-04-25T22:56:55.067242Z",
     "shell.execute_reply": "2022-04-25T22:56:55.066372Z"
    },
    "papermill": {
     "duration": 0.061788,
     "end_time": "2022-04-25T22:56:55.069423",
     "exception": false,
     "start_time": "2022-04-25T22:56:55.007635",
     "status": "completed"
    },
    "tags": []
   },
   "outputs": [],
   "source": [
    "# fill NaN in Benefits with zero\n",
    "\n",
    "df['Benefits'] = df['Benefits'].fillna(0.00)\n",
    "df['OvertimePay'] = df['Benefits'].fillna(0.00)\n",
    "df['OtherPay'] = df['Benefits'].fillna(0.00)"
   ]
  },
  {
   "cell_type": "code",
   "execution_count": 11,
   "id": "a92f39d9",
   "metadata": {
    "execution": {
     "iopub.execute_input": "2022-04-25T22:56:55.169533Z",
     "iopub.status.busy": "2022-04-25T22:56:55.169216Z",
     "iopub.status.idle": "2022-04-25T22:56:55.228771Z",
     "shell.execute_reply": "2022-04-25T22:56:55.227903Z"
    },
    "papermill": {
     "duration": 0.112192,
     "end_time": "2022-04-25T22:56:55.230908",
     "exception": false,
     "start_time": "2022-04-25T22:56:55.118716",
     "status": "completed"
    },
    "tags": []
   },
   "outputs": [
    {
     "data": {
      "text/plain": [
       "Id                  0\n",
       "EmployeeName        0\n",
       "JobTitle            0\n",
       "BasePay             0\n",
       "OvertimePay         0\n",
       "OtherPay            0\n",
       "Benefits            0\n",
       "TotalPay            0\n",
       "TotalPayBenefits    0\n",
       "Year                0\n",
       "Agency              0\n",
       "dtype: int64"
      ]
     },
     "execution_count": 11,
     "metadata": {},
     "output_type": "execute_result"
    }
   ],
   "source": [
    "# confirm changes\n",
    "\n",
    "df.isnull().sum()"
   ]
  },
  {
   "cell_type": "markdown",
   "id": "843323ff",
   "metadata": {
    "papermill": {
     "duration": 0.049459,
     "end_time": "2022-04-25T22:56:55.330187",
     "exception": false,
     "start_time": "2022-04-25T22:56:55.280728",
     "status": "completed"
    },
    "tags": []
   },
   "source": [
    "### Dyplicate values"
   ]
  },
  {
   "cell_type": "code",
   "execution_count": 12,
   "id": "233cf60a",
   "metadata": {
    "execution": {
     "iopub.execute_input": "2022-04-25T22:56:55.431589Z",
     "iopub.status.busy": "2022-04-25T22:56:55.431057Z",
     "iopub.status.idle": "2022-04-25T22:56:55.660295Z",
     "shell.execute_reply": "2022-04-25T22:56:55.659465Z"
    },
    "papermill": {
     "duration": 0.282637,
     "end_time": "2022-04-25T22:56:55.662547",
     "exception": false,
     "start_time": "2022-04-25T22:56:55.379910",
     "status": "completed"
    },
    "tags": []
   },
   "outputs": [
    {
     "data": {
      "text/plain": [
       "0"
      ]
     },
     "execution_count": 12,
     "metadata": {},
     "output_type": "execute_result"
    }
   ],
   "source": [
    "# check duplicate values\n",
    "# no duplicate\n",
    "\n",
    "df.duplicated().sum()"
   ]
  },
  {
   "cell_type": "markdown",
   "id": "bb76bd54",
   "metadata": {
    "papermill": {
     "duration": 0.049957,
     "end_time": "2022-04-25T22:56:55.762797",
     "exception": false,
     "start_time": "2022-04-25T22:56:55.712840",
     "status": "completed"
    },
    "tags": []
   },
   "source": [
    "### Detect and remove outlires"
   ]
  },
  {
   "cell_type": "code",
   "execution_count": 13,
   "id": "3db1b9e8",
   "metadata": {
    "execution": {
     "iopub.execute_input": "2022-04-25T22:56:55.864820Z",
     "iopub.status.busy": "2022-04-25T22:56:55.864525Z",
     "iopub.status.idle": "2022-04-25T22:56:56.026882Z",
     "shell.execute_reply": "2022-04-25T22:56:56.024372Z"
    },
    "papermill": {
     "duration": 0.217117,
     "end_time": "2022-04-25T22:56:56.030162",
     "exception": false,
     "start_time": "2022-04-25T22:56:55.813045",
     "status": "completed"
    },
    "tags": []
   },
   "outputs": [
    {
     "name": "stderr",
     "output_type": "stream",
     "text": [
      "/opt/conda/lib/python3.7/site-packages/seaborn/_decorators.py:43: FutureWarning: Pass the following variable as a keyword arg: x. From version 0.12, the only valid positional argument will be `data`, and passing other arguments without an explicit keyword will result in an error or misinterpretation.\n",
      "  FutureWarning\n"
     ]
    },
    {
     "data": {
      "image/png": "[encoded data removed]",
      "text/plain": [
       "<Figure size 432x288 with 1 Axes>"
      ]
     },
     "metadata": {
      "needs_background": "light"
     },
     "output_type": "display_data"
    }
   ],
   "source": [
    "# detecting and remove outlires\n",
    "\n",
    "sns.boxplot(df['TotalPayBenefits']);"
   ]
  },
  {
   "cell_type": "code",
   "execution_count": 14,
   "id": "9dcdec04",
   "metadata": {
    "execution": {
     "iopub.execute_input": "2022-04-25T22:56:56.135187Z",
     "iopub.status.busy": "2022-04-25T22:56:56.134652Z",
     "iopub.status.idle": "2022-04-25T22:56:56.142022Z",
     "shell.execute_reply": "2022-04-25T22:56:56.141276Z"
    },
    "papermill": {
     "duration": 0.061755,
     "end_time": "2022-04-25T22:56:56.143954",
     "exception": false,
     "start_time": "2022-04-25T22:56:56.082199",
     "status": "completed"
    },
    "tags": []
   },
   "outputs": [],
   "source": [
    "# outliers are values greater than (Q3+1.5*IQR)\n",
    "Q1 = np.percentile(df['TotalPayBenefits'], 25, interpolation = 'midpoint')\n",
    "Q3 = np.percentile(df['TotalPayBenefits'], 75, interpolation = 'midpoint')\n",
    "IQR = Q3 - Q1"
   ]
  },
  {
   "cell_type": "code",
   "execution_count": 15,
   "id": "106690ce",
   "metadata": {
    "execution": {
     "iopub.execute_input": "2022-04-25T22:56:56.248514Z",
     "iopub.status.busy": "2022-04-25T22:56:56.247694Z",
     "iopub.status.idle": "2022-04-25T22:56:56.253620Z",
     "shell.execute_reply": "2022-04-25T22:56:56.252873Z"
    },
    "papermill": {
     "duration": 0.059783,
     "end_time": "2022-04-25T22:56:56.255449",
     "exception": false,
     "start_time": "2022-04-25T22:56:56.195666",
     "status": "completed"
    },
    "tags": []
   },
   "outputs": [],
   "source": [
    "# Upper bound\n",
    "upper = np.where(df['TotalPayBenefits'] >= (Q3+1.5*IQR))\n",
    "# lower bound\n",
    "lower = np.where(df['TotalPayBenefits'] <= (Q3-1.5*IQR))\n"
   ]
  },
  {
   "cell_type": "code",
   "execution_count": 16,
   "id": "a5852de0",
   "metadata": {
    "execution": {
     "iopub.execute_input": "2022-04-25T22:56:56.359885Z",
     "iopub.status.busy": "2022-04-25T22:56:56.359349Z",
     "iopub.status.idle": "2022-04-25T22:56:56.378199Z",
     "shell.execute_reply": "2022-04-25T22:56:56.377434Z"
    },
    "papermill": {
     "duration": 0.073824,
     "end_time": "2022-04-25T22:56:56.380281",
     "exception": false,
     "start_time": "2022-04-25T22:56:56.306457",
     "status": "completed"
    },
    "tags": []
   },
   "outputs": [],
   "source": [
    "# Because we may need the outliers to understand a certain class of people who get very high salaries.\n",
    "# it would be better to save the old data before removing the outliers (df) and store the new data in new dataframe (df_new)\n",
    "\n",
    "df_new = df.copy()"
   ]
  },
  {
   "cell_type": "code",
   "execution_count": 17,
   "id": "5e80326b",
   "metadata": {
    "execution": {
     "iopub.execute_input": "2022-04-25T22:56:56.484495Z",
     "iopub.status.busy": "2022-04-25T22:56:56.483936Z",
     "iopub.status.idle": "2022-04-25T22:56:56.540673Z",
     "shell.execute_reply": "2022-04-25T22:56:56.539813Z"
    },
    "papermill": {
     "duration": 0.111314,
     "end_time": "2022-04-25T22:56:56.542794",
     "exception": false,
     "start_time": "2022-04-25T22:56:56.431480",
     "status": "completed"
    },
    "tags": []
   },
   "outputs": [],
   "source": [
    "# Remove outlires\n",
    "df_new.drop(upper[0], inplace = True)\n",
    "df_new.drop(lower[0], inplace = True)"
   ]
  },
  {
   "cell_type": "code",
   "execution_count": 18,
   "id": "3b95ac38",
   "metadata": {
    "execution": {
     "iopub.execute_input": "2022-04-25T22:56:56.647230Z",
     "iopub.status.busy": "2022-04-25T22:56:56.646820Z",
     "iopub.status.idle": "2022-04-25T22:56:56.810199Z",
     "shell.execute_reply": "2022-04-25T22:56:56.808684Z"
    },
    "papermill": {
     "duration": 0.218919,
     "end_time": "2022-04-25T22:56:56.813262",
     "exception": false,
     "start_time": "2022-04-25T22:56:56.594343",
     "status": "completed"
    },
    "tags": []
   },
   "outputs": [
    {
     "name": "stderr",
     "output_type": "stream",
     "text": [
      "/opt/conda/lib/python3.7/site-packages/seaborn/_decorators.py:43: FutureWarning: Pass the following variable as a keyword arg: x. From version 0.12, the only valid positional argument will be `data`, and passing other arguments without an explicit keyword will result in an error or misinterpretation.\n",
      "  FutureWarning\n"
     ]
    },
    {
     "data": {
      "image/png": "[encoded data removed]",
      "text/plain": [
       "<Figure size 432x288 with 1 Axes>"
      ]
     },
     "metadata": {
      "needs_background": "light"
     },
     "output_type": "display_data"
    }
   ],
   "source": [
    "# confirm changes after remove outlires\n",
    "sns.boxplot(df_new['TotalPayBenefits']);"
   ]
  },
  {
   "cell_type": "markdown",
   "id": "ddc0e560",
   "metadata": {
    "papermill": {
     "duration": 0.052578,
     "end_time": "2022-04-25T22:56:56.919537",
     "exception": false,
     "start_time": "2022-04-25T22:56:56.866959",
     "status": "completed"
    },
    "tags": []
   },
   "source": [
    "### Incorrect records"
   ]
  },
  {
   "cell_type": "code",
   "execution_count": 19,
   "id": "f133bbf7",
   "metadata": {
    "execution": {
     "iopub.execute_input": "2022-04-25T22:56:57.027087Z",
     "iopub.status.busy": "2022-04-25T22:56:57.026808Z",
     "iopub.status.idle": "2022-04-25T22:56:57.036328Z",
     "shell.execute_reply": "2022-04-25T22:56:57.035405Z"
    },
    "papermill": {
     "duration": 0.06625,
     "end_time": "2022-04-25T22:56:57.038550",
     "exception": false,
     "start_time": "2022-04-25T22:56:56.972300",
     "status": "completed"
    },
    "tags": []
   },
   "outputs": [
    {
     "data": {
      "text/plain": [
       "1298"
      ]
     },
     "execution_count": 19,
     "metadata": {},
     "output_type": "execute_result"
    }
   ],
   "source": [
    "# remove records with BasePay = 0\n",
    "\n",
    "df[df.BasePay == 0].BasePay.count()\n",
    "# there is 1298 recordf with BasePay = 0"
   ]
  },
  {
   "cell_type": "code",
   "execution_count": 20,
   "id": "eab898b3",
   "metadata": {
    "execution": {
     "iopub.execute_input": "2022-04-25T22:56:57.147284Z",
     "iopub.status.busy": "2022-04-25T22:56:57.146969Z",
     "iopub.status.idle": "2022-04-25T22:56:57.175333Z",
     "shell.execute_reply": "2022-04-25T22:56:57.174643Z"
    },
    "papermill": {
     "duration": 0.084493,
     "end_time": "2022-04-25T22:56:57.177473",
     "exception": false,
     "start_time": "2022-04-25T22:56:57.092980",
     "status": "completed"
    },
    "tags": []
   },
   "outputs": [],
   "source": [
    "# drop it\n",
    "df = df.drop(df[df.BasePay == 0].index)"
   ]
  },
  {
   "cell_type": "markdown",
   "id": "7168c000",
   "metadata": {
    "papermill": {
     "duration": 0.052224,
     "end_time": "2022-04-25T22:56:57.282285",
     "exception": false,
     "start_time": "2022-04-25T22:56:57.230061",
     "status": "completed"
    },
    "tags": []
   },
   "source": [
    "### Data after cleaning"
   ]
  },
  {
   "cell_type": "code",
   "execution_count": 21,
   "id": "411e50e3",
   "metadata": {
    "execution": {
     "iopub.execute_input": "2022-04-25T22:56:57.389839Z",
     "iopub.status.busy": "2022-04-25T22:56:57.389420Z",
     "iopub.status.idle": "2022-04-25T22:56:57.407012Z",
     "shell.execute_reply": "2022-04-25T22:56:57.406195Z"
    },
    "papermill": {
     "duration": 0.07406,
     "end_time": "2022-04-25T22:56:57.409024",
     "exception": false,
     "start_time": "2022-04-25T22:56:57.334964",
     "status": "completed"
    },
    "tags": []
   },
   "outputs": [
    {
     "data": {
      "text/html": [
       "<div>\n",
       "<style scoped>\n",
       "    .dataframe tbody tr th:only-of-type {\n",
       "        vertical-align: middle;\n",
       "    }\n",
       "\n",
       "    .dataframe tbody tr th {\n",
       "        vertical-align: top;\n",
       "    }\n",
       "\n",
       "    .dataframe thead th {\n",
       "        text-align: right;\n",
       "    }\n",
       "</style>\n",
       "<table border=\"1\" class=\"dataframe\">\n",
       "  <thead>\n",
       "    <tr style=\"text-align: right;\">\n",
       "      <th></th>\n",
       "      <th>Id</th>\n",
       "      <th>EmployeeName</th>\n",
       "      <th>JobTitle</th>\n",
       "      <th>BasePay</th>\n",
       "      <th>OvertimePay</th>\n",
       "      <th>OtherPay</th>\n",
       "      <th>Benefits</th>\n",
       "      <th>TotalPay</th>\n",
       "      <th>TotalPayBenefits</th>\n",
       "      <th>Year</th>\n",
       "      <th>Agency</th>\n",
       "    </tr>\n",
       "  </thead>\n",
       "  <tbody>\n",
       "    <tr>\n",
       "      <th>26</th>\n",
       "      <td>27</td>\n",
       "      <td>JOHN HANLEY</td>\n",
       "      <td>CAPTAIN, FIRE SUPPRESSION</td>\n",
       "      <td>92080.80</td>\n",
       "      <td>0.0</td>\n",
       "      <td>0.0</td>\n",
       "      <td>0.0</td>\n",
       "      <td>265784.56</td>\n",
       "      <td>265784.56</td>\n",
       "      <td>2011</td>\n",
       "      <td>San Francisco</td>\n",
       "    </tr>\n",
       "    <tr>\n",
       "      <th>27</th>\n",
       "      <td>28</td>\n",
       "      <td>RAYMOND GUZMAN</td>\n",
       "      <td>BATTALION CHIEF, (FIRE DEPARTMENT)</td>\n",
       "      <td>168692.59</td>\n",
       "      <td>0.0</td>\n",
       "      <td>0.0</td>\n",
       "      <td>0.0</td>\n",
       "      <td>265463.46</td>\n",
       "      <td>265463.46</td>\n",
       "      <td>2011</td>\n",
       "      <td>San Francisco</td>\n",
       "    </tr>\n",
       "    <tr>\n",
       "      <th>28</th>\n",
       "      <td>29</td>\n",
       "      <td>DENISE SCHMITT</td>\n",
       "      <td>DEPUTY CHIEF III (POLICE DEPARTMENT)</td>\n",
       "      <td>261717.60</td>\n",
       "      <td>0.0</td>\n",
       "      <td>0.0</td>\n",
       "      <td>0.0</td>\n",
       "      <td>264074.60</td>\n",
       "      <td>264074.60</td>\n",
       "      <td>2011</td>\n",
       "      <td>San Francisco</td>\n",
       "    </tr>\n",
       "    <tr>\n",
       "      <th>29</th>\n",
       "      <td>30</td>\n",
       "      <td>MONICA FIELDS</td>\n",
       "      <td>DEPUTY CHIEF OF DEPARTMENT,(FIRE DEPARTMENT)</td>\n",
       "      <td>246225.60</td>\n",
       "      <td>0.0</td>\n",
       "      <td>0.0</td>\n",
       "      <td>0.0</td>\n",
       "      <td>261366.14</td>\n",
       "      <td>261366.14</td>\n",
       "      <td>2011</td>\n",
       "      <td>San Francisco</td>\n",
       "    </tr>\n",
       "    <tr>\n",
       "      <th>30</th>\n",
       "      <td>31</td>\n",
       "      <td>HARLAN KELLY-JR</td>\n",
       "      <td>EXECUTIVE CONTRACT EMPLOYEE</td>\n",
       "      <td>234325.02</td>\n",
       "      <td>0.0</td>\n",
       "      <td>0.0</td>\n",
       "      <td>0.0</td>\n",
       "      <td>260297.66</td>\n",
       "      <td>260297.66</td>\n",
       "      <td>2011</td>\n",
       "      <td>San Francisco</td>\n",
       "    </tr>\n",
       "  </tbody>\n",
       "</table>\n",
       "</div>"
      ],
      "text/plain": [
       "    Id     EmployeeName                                      JobTitle  \\\n",
       "26  27      JOHN HANLEY                     CAPTAIN, FIRE SUPPRESSION   \n",
       "27  28   RAYMOND GUZMAN            BATTALION CHIEF, (FIRE DEPARTMENT)   \n",
       "28  29   DENISE SCHMITT          DEPUTY CHIEF III (POLICE DEPARTMENT)   \n",
       "29  30    MONICA FIELDS  DEPUTY CHIEF OF DEPARTMENT,(FIRE DEPARTMENT)   \n",
       "30  31  HARLAN KELLY-JR                   EXECUTIVE CONTRACT EMPLOYEE   \n",
       "\n",
       "      BasePay  OvertimePay  OtherPay  Benefits   TotalPay  TotalPayBenefits  \\\n",
       "26   92080.80          0.0       0.0       0.0  265784.56         265784.56   \n",
       "27  168692.59          0.0       0.0       0.0  265463.46         265463.46   \n",
       "28  261717.60          0.0       0.0       0.0  264074.60         264074.60   \n",
       "29  246225.60          0.0       0.0       0.0  261366.14         261366.14   \n",
       "30  234325.02          0.0       0.0       0.0  260297.66         260297.66   \n",
       "\n",
       "    Year         Agency  \n",
       "26  2011  San Francisco  \n",
       "27  2011  San Francisco  \n",
       "28  2011  San Francisco  \n",
       "29  2011  San Francisco  \n",
       "30  2011  San Francisco  "
      ]
     },
     "execution_count": 21,
     "metadata": {},
     "output_type": "execute_result"
    }
   ],
   "source": [
    "df_new.head()"
   ]
  },
  {
   "cell_type": "code",
   "execution_count": 22,
   "id": "7bef9ed0",
   "metadata": {
    "execution": {
     "iopub.execute_input": "2022-04-25T22:56:57.517387Z",
     "iopub.status.busy": "2022-04-25T22:56:57.516975Z",
     "iopub.status.idle": "2022-04-25T22:56:57.578242Z",
     "shell.execute_reply": "2022-04-25T22:56:57.577598Z"
    },
    "papermill": {
     "duration": 0.119347,
     "end_time": "2022-04-25T22:56:57.581320",
     "exception": false,
     "start_time": "2022-04-25T22:56:57.461973",
     "status": "completed"
    },
    "tags": []
   },
   "outputs": [
    {
     "name": "stdout",
     "output_type": "stream",
     "text": [
      "<class 'pandas.core.frame.DataFrame'>\n",
      "Int64Index: 147720 entries, 26 to 148652\n",
      "Data columns (total 11 columns):\n",
      " #   Column            Non-Null Count   Dtype  \n",
      "---  ------            --------------   -----  \n",
      " 0   Id                147720 non-null  int64  \n",
      " 1   EmployeeName      147720 non-null  string \n",
      " 2   JobTitle          147720 non-null  string \n",
      " 3   BasePay           147720 non-null  float64\n",
      " 4   OvertimePay       147720 non-null  float64\n",
      " 5   OtherPay          147720 non-null  float64\n",
      " 6   Benefits          147720 non-null  float64\n",
      " 7   TotalPay          147720 non-null  float64\n",
      " 8   TotalPayBenefits  147720 non-null  float64\n",
      " 9   Year              147720 non-null  int64  \n",
      " 10  Agency            147720 non-null  string \n",
      "dtypes: float64(6), int64(2), string(3)\n",
      "memory usage: 13.5 MB\n"
     ]
    }
   ],
   "source": [
    "df_new.info()"
   ]
  },
  {
   "cell_type": "code",
   "execution_count": 23,
   "id": "b63b713b",
   "metadata": {
    "execution": {
     "iopub.execute_input": "2022-04-25T22:56:57.693556Z",
     "iopub.status.busy": "2022-04-25T22:56:57.693044Z",
     "iopub.status.idle": "2022-04-25T22:56:57.760562Z",
     "shell.execute_reply": "2022-04-25T22:56:57.759931Z"
    },
    "papermill": {
     "duration": 0.124848,
     "end_time": "2022-04-25T22:56:57.762621",
     "exception": false,
     "start_time": "2022-04-25T22:56:57.637773",
     "status": "completed"
    },
    "tags": []
   },
   "outputs": [
    {
     "data": {
      "text/html": [
       "<div>\n",
       "<style scoped>\n",
       "    .dataframe tbody tr th:only-of-type {\n",
       "        vertical-align: middle;\n",
       "    }\n",
       "\n",
       "    .dataframe tbody tr th {\n",
       "        vertical-align: top;\n",
       "    }\n",
       "\n",
       "    .dataframe thead th {\n",
       "        text-align: right;\n",
       "    }\n",
       "</style>\n",
       "<table border=\"1\" class=\"dataframe\">\n",
       "  <thead>\n",
       "    <tr style=\"text-align: right;\">\n",
       "      <th></th>\n",
       "      <th>Id</th>\n",
       "      <th>BasePay</th>\n",
       "      <th>OvertimePay</th>\n",
       "      <th>OtherPay</th>\n",
       "      <th>Benefits</th>\n",
       "      <th>TotalPay</th>\n",
       "      <th>TotalPayBenefits</th>\n",
       "      <th>Year</th>\n",
       "    </tr>\n",
       "  </thead>\n",
       "  <tbody>\n",
       "    <tr>\n",
       "      <th>count</th>\n",
       "      <td>147720.000000</td>\n",
       "      <td>147720.000000</td>\n",
       "      <td>147720.000000</td>\n",
       "      <td>147720.000000</td>\n",
       "      <td>147720.000000</td>\n",
       "      <td>147720.000000</td>\n",
       "      <td>147720.000000</td>\n",
       "      <td>147720.000000</td>\n",
       "    </tr>\n",
       "    <tr>\n",
       "      <th>mean</th>\n",
       "      <td>74325.568163</td>\n",
       "      <td>65591.255215</td>\n",
       "      <td>18701.242272</td>\n",
       "      <td>18701.242272</td>\n",
       "      <td>18701.242272</td>\n",
       "      <td>73707.338009</td>\n",
       "      <td>92408.580281</td>\n",
       "      <td>2012.519415</td>\n",
       "    </tr>\n",
       "    <tr>\n",
       "      <th>std</th>\n",
       "      <td>42979.173674</td>\n",
       "      <td>41628.569452</td>\n",
       "      <td>16946.829350</td>\n",
       "      <td>16946.829350</td>\n",
       "      <td>16946.829350</td>\n",
       "      <td>48796.365467</td>\n",
       "      <td>60805.695950</td>\n",
       "      <td>1.118408</td>\n",
       "    </tr>\n",
       "    <tr>\n",
       "      <th>min</th>\n",
       "      <td>27.000000</td>\n",
       "      <td>-166.010000</td>\n",
       "      <td>-33.890000</td>\n",
       "      <td>-33.890000</td>\n",
       "      <td>-33.890000</td>\n",
       "      <td>0.000000</td>\n",
       "      <td>-33.890000</td>\n",
       "      <td>2011.000000</td>\n",
       "    </tr>\n",
       "    <tr>\n",
       "      <th>25%</th>\n",
       "      <td>37180.750000</td>\n",
       "      <td>33454.102500</td>\n",
       "      <td>0.000000</td>\n",
       "      <td>0.000000</td>\n",
       "      <td>0.000000</td>\n",
       "      <td>35748.445000</td>\n",
       "      <td>43507.002500</td>\n",
       "      <td>2012.000000</td>\n",
       "    </tr>\n",
       "    <tr>\n",
       "      <th>50%</th>\n",
       "      <td>74487.500000</td>\n",
       "      <td>64938.280000</td>\n",
       "      <td>22869.120000</td>\n",
       "      <td>22869.120000</td>\n",
       "      <td>22869.120000</td>\n",
       "      <td>71092.640000</td>\n",
       "      <td>92002.245000</td>\n",
       "      <td>2013.000000</td>\n",
       "    </tr>\n",
       "    <tr>\n",
       "      <th>75%</th>\n",
       "      <td>111723.250000</td>\n",
       "      <td>94127.252500</td>\n",
       "      <td>33335.552500</td>\n",
       "      <td>33335.552500</td>\n",
       "      <td>33335.552500</td>\n",
       "      <td>104937.805000</td>\n",
       "      <td>131955.922500</td>\n",
       "      <td>2014.000000</td>\n",
       "    </tr>\n",
       "    <tr>\n",
       "      <th>max</th>\n",
       "      <td>148653.000000</td>\n",
       "      <td>261717.600000</td>\n",
       "      <td>71603.130000</td>\n",
       "      <td>71603.130000</td>\n",
       "      <td>71603.130000</td>\n",
       "      <td>265784.560000</td>\n",
       "      <td>266073.100000</td>\n",
       "      <td>2014.000000</td>\n",
       "    </tr>\n",
       "  </tbody>\n",
       "</table>\n",
       "</div>"
      ],
      "text/plain": [
       "                  Id        BasePay    OvertimePay       OtherPay  \\\n",
       "count  147720.000000  147720.000000  147720.000000  147720.000000   \n",
       "mean    74325.568163   65591.255215   18701.242272   18701.242272   \n",
       "std     42979.173674   41628.569452   16946.829350   16946.829350   \n",
       "min        27.000000    -166.010000     -33.890000     -33.890000   \n",
       "25%     37180.750000   33454.102500       0.000000       0.000000   \n",
       "50%     74487.500000   64938.280000   22869.120000   22869.120000   \n",
       "75%    111723.250000   94127.252500   33335.552500   33335.552500   \n",
       "max    148653.000000  261717.600000   71603.130000   71603.130000   \n",
       "\n",
       "            Benefits       TotalPay  TotalPayBenefits           Year  \n",
       "count  147720.000000  147720.000000     147720.000000  147720.000000  \n",
       "mean    18701.242272   73707.338009      92408.580281    2012.519415  \n",
       "std     16946.829350   48796.365467      60805.695950       1.118408  \n",
       "min       -33.890000       0.000000        -33.890000    2011.000000  \n",
       "25%         0.000000   35748.445000      43507.002500    2012.000000  \n",
       "50%     22869.120000   71092.640000      92002.245000    2013.000000  \n",
       "75%     33335.552500  104937.805000     131955.922500    2014.000000  \n",
       "max     71603.130000  265784.560000     266073.100000    2014.000000  "
      ]
     },
     "execution_count": 23,
     "metadata": {},
     "output_type": "execute_result"
    }
   ],
   "source": [
    "df_new.describe()"
   ]
  },
  {
   "cell_type": "markdown",
   "id": "19fa30df",
   "metadata": {
    "papermill": {
     "duration": 0.054325,
     "end_time": "2022-04-25T22:56:57.872141",
     "exception": false,
     "start_time": "2022-04-25T22:56:57.817816",
     "status": "completed"
    },
    "tags": []
   },
   "source": [
    "# Exploratory Data Analysis"
   ]
  },
  {
   "cell_type": "markdown",
   "id": "6de50608",
   "metadata": {
    "papermill": {
     "duration": 0.055235,
     "end_time": "2022-04-25T22:56:57.981647",
     "exception": false,
     "start_time": "2022-04-25T22:56:57.926412",
     "status": "completed"
    },
    "tags": []
   },
   "source": [
    "### Q1: What is the BasePay average?"
   ]
  },
  {
   "cell_type": "code",
   "execution_count": 24,
   "id": "8155d4bb",
   "metadata": {
    "execution": {
     "iopub.execute_input": "2022-04-25T22:56:58.093918Z",
     "iopub.status.busy": "2022-04-25T22:56:58.093111Z",
     "iopub.status.idle": "2022-04-25T22:56:58.100081Z",
     "shell.execute_reply": "2022-04-25T22:56:58.099349Z"
    },
    "papermill": {
     "duration": 0.064584,
     "end_time": "2022-04-25T22:56:58.102080",
     "exception": false,
     "start_time": "2022-04-25T22:56:58.037496",
     "status": "completed"
    },
    "tags": []
   },
   "outputs": [
    {
     "data": {
      "text/plain": [
       "65591.25521509517"
      ]
     },
     "execution_count": 24,
     "metadata": {},
     "output_type": "execute_result"
    }
   ],
   "source": [
    "df_new.BasePay.mean()"
   ]
  },
  {
   "cell_type": "markdown",
   "id": "22e5c57b",
   "metadata": {
    "papermill": {
     "duration": 0.054622,
     "end_time": "2022-04-25T22:56:58.211545",
     "exception": false,
     "start_time": "2022-04-25T22:56:58.156923",
     "status": "completed"
    },
    "tags": []
   },
   "source": [
    " ### Q2: What are the three most common job?"
   ]
  },
  {
   "cell_type": "code",
   "execution_count": 25,
   "id": "162b0eaa",
   "metadata": {
    "execution": {
     "iopub.execute_input": "2022-04-25T22:56:58.323238Z",
     "iopub.status.busy": "2022-04-25T22:56:58.322663Z",
     "iopub.status.idle": "2022-04-25T22:56:58.356179Z",
     "shell.execute_reply": "2022-04-25T22:56:58.355285Z"
    },
    "papermill": {
     "duration": 0.092199,
     "end_time": "2022-04-25T22:56:58.358641",
     "exception": false,
     "start_time": "2022-04-25T22:56:58.266442",
     "status": "completed"
    },
    "tags": []
   },
   "outputs": [
    {
     "data": {
      "text/plain": [
       "Transit Operator    6975\n",
       "Special Nurse       4355\n",
       "Registered Nurse    3701\n",
       "Name: JobTitle, dtype: Int64"
      ]
     },
     "execution_count": 25,
     "metadata": {},
     "output_type": "execute_result"
    }
   ],
   "source": [
    "df['JobTitle'].value_counts()[0:3]"
   ]
  },
  {
   "cell_type": "markdown",
   "id": "af4d14fe",
   "metadata": {
    "papermill": {
     "duration": 0.056016,
     "end_time": "2022-04-25T22:56:58.470511",
     "exception": false,
     "start_time": "2022-04-25T22:56:58.414495",
     "status": "completed"
    },
    "tags": []
   },
   "source": [
    "### Q3: What is the average BasePay of employees as a transit operator?"
   ]
  },
  {
   "cell_type": "code",
   "execution_count": 26,
   "id": "aee925a8",
   "metadata": {
    "execution": {
     "iopub.execute_input": "2022-04-25T22:56:58.586680Z",
     "iopub.status.busy": "2022-04-25T22:56:58.586099Z",
     "iopub.status.idle": "2022-04-25T22:56:58.604694Z",
     "shell.execute_reply": "2022-04-25T22:56:58.603761Z"
    },
    "papermill": {
     "duration": 0.077348,
     "end_time": "2022-04-25T22:56:58.606729",
     "exception": false,
     "start_time": "2022-04-25T22:56:58.529381",
     "status": "completed"
    },
    "tags": []
   },
   "outputs": [
    {
     "data": {
      "text/plain": [
       "51898.32714173816"
      ]
     },
     "execution_count": 26,
     "metadata": {},
     "output_type": "execute_result"
    }
   ],
   "source": [
    "df_new.query(\"JobTitle == 'Transit Operator'\")['BasePay'].mean()"
   ]
  },
  {
   "cell_type": "markdown",
   "id": "9b3bcb6b",
   "metadata": {
    "papermill": {
     "duration": 0.055184,
     "end_time": "2022-04-25T22:56:58.717576",
     "exception": false,
     "start_time": "2022-04-25T22:56:58.662392",
     "status": "completed"
    },
    "tags": []
   },
   "source": [
    "### Q4: What is the job of the person with the highest BasePay ever?"
   ]
  },
  {
   "cell_type": "code",
   "execution_count": 27,
   "id": "5a11aeb3",
   "metadata": {
    "execution": {
     "iopub.execute_input": "2022-04-25T22:56:58.831374Z",
     "iopub.status.busy": "2022-04-25T22:56:58.830793Z",
     "iopub.status.idle": "2022-04-25T22:56:58.838055Z",
     "shell.execute_reply": "2022-04-25T22:56:58.837207Z"
    },
    "papermill": {
     "duration": 0.066861,
     "end_time": "2022-04-25T22:56:58.840068",
     "exception": false,
     "start_time": "2022-04-25T22:56:58.773207",
     "status": "completed"
    },
    "tags": []
   },
   "outputs": [
    {
     "data": {
      "text/plain": [
       "319275.01"
      ]
     },
     "execution_count": 27,
     "metadata": {},
     "output_type": "execute_result"
    }
   ],
   "source": [
    "# highest BasePay\n",
    "max_BasePay = df.BasePay.max()\n",
    "max_BasePay"
   ]
  },
  {
   "cell_type": "code",
   "execution_count": 28,
   "id": "966d8e23",
   "metadata": {
    "execution": {
     "iopub.execute_input": "2022-04-25T22:56:58.954805Z",
     "iopub.status.busy": "2022-04-25T22:56:58.954242Z",
     "iopub.status.idle": "2022-04-25T22:56:58.962613Z",
     "shell.execute_reply": "2022-04-25T22:56:58.961761Z"
    },
    "papermill": {
     "duration": 0.068584,
     "end_time": "2022-04-25T22:56:58.964535",
     "exception": false,
     "start_time": "2022-04-25T22:56:58.895951",
     "status": "completed"
    },
    "tags": []
   },
   "outputs": [
    {
     "data": {
      "text/plain": [
       "72925    Chief of Police\n",
       "Name: JobTitle, dtype: string"
      ]
     },
     "execution_count": 28,
     "metadata": {},
     "output_type": "execute_result"
    }
   ],
   "source": [
    "df[df.BasePay == max_BasePay].JobTitle"
   ]
  },
  {
   "cell_type": "markdown",
   "id": "fdd58c9e",
   "metadata": {
    "papermill": {
     "duration": 0.05818,
     "end_time": "2022-04-25T22:56:59.079331",
     "exception": false,
     "start_time": "2022-04-25T22:56:59.021151",
     "status": "completed"
    },
    "tags": []
   },
   "source": [
    "### Q5: Who is the person who gets the most benefits in relation to his basic salary and what is his job?"
   ]
  },
  {
   "cell_type": "code",
   "execution_count": 29,
   "id": "0c8eba56",
   "metadata": {
    "execution": {
     "iopub.execute_input": "2022-04-25T22:56:59.195371Z",
     "iopub.status.busy": "2022-04-25T22:56:59.195061Z",
     "iopub.status.idle": "2022-04-25T22:56:59.214255Z",
     "shell.execute_reply": "2022-04-25T22:56:59.213395Z"
    },
    "papermill": {
     "duration": 0.080748,
     "end_time": "2022-04-25T22:56:59.216439",
     "exception": false,
     "start_time": "2022-04-25T22:56:59.135691",
     "status": "completed"
    },
    "tags": []
   },
   "outputs": [
    {
     "data": {
      "text/html": [
       "<div>\n",
       "<style scoped>\n",
       "    .dataframe tbody tr th:only-of-type {\n",
       "        vertical-align: middle;\n",
       "    }\n",
       "\n",
       "    .dataframe tbody tr th {\n",
       "        vertical-align: top;\n",
       "    }\n",
       "\n",
       "    .dataframe thead th {\n",
       "        text-align: right;\n",
       "    }\n",
       "</style>\n",
       "<table border=\"1\" class=\"dataframe\">\n",
       "  <thead>\n",
       "    <tr style=\"text-align: right;\">\n",
       "      <th></th>\n",
       "      <th>Id</th>\n",
       "      <th>EmployeeName</th>\n",
       "      <th>JobTitle</th>\n",
       "      <th>BasePay</th>\n",
       "      <th>OvertimePay</th>\n",
       "      <th>OtherPay</th>\n",
       "      <th>Benefits</th>\n",
       "      <th>TotalPay</th>\n",
       "      <th>TotalPayBenefits</th>\n",
       "      <th>Year</th>\n",
       "      <th>Agency</th>\n",
       "    </tr>\n",
       "  </thead>\n",
       "  <tbody>\n",
       "    <tr>\n",
       "      <th>69513</th>\n",
       "      <td>69514</td>\n",
       "      <td>Fely Alminiana</td>\n",
       "      <td>Asst General Services Manager</td>\n",
       "      <td>170.29</td>\n",
       "      <td>7380.22</td>\n",
       "      <td>7380.22</td>\n",
       "      <td>7380.22</td>\n",
       "      <td>882.51</td>\n",
       "      <td>8262.73</td>\n",
       "      <td>2012</td>\n",
       "      <td>San Francisco</td>\n",
       "    </tr>\n",
       "  </tbody>\n",
       "</table>\n",
       "</div>"
      ],
      "text/plain": [
       "          Id    EmployeeName                       JobTitle  BasePay  \\\n",
       "69513  69514  Fely Alminiana  Asst General Services Manager   170.29   \n",
       "\n",
       "       OvertimePay  OtherPay  Benefits  TotalPay  TotalPayBenefits  Year  \\\n",
       "69513      7380.22   7380.22   7380.22    882.51           8262.73  2012   \n",
       "\n",
       "              Agency  \n",
       "69513  San Francisco  "
      ]
     },
     "execution_count": 29,
     "metadata": {},
     "output_type": "execute_result"
    }
   ],
   "source": [
    "max_Benefits_BasePay = (df.Benefits/df.BasePay).max()\n",
    "df[ (df.Benefits/df.BasePay) == max_Benefits_BasePay]"
   ]
  },
  {
   "cell_type": "markdown",
   "id": "2aa30227",
   "metadata": {
    "papermill": {
     "duration": 0.057129,
     "end_time": "2022-04-25T22:56:59.331429",
     "exception": false,
     "start_time": "2022-04-25T22:56:59.274300",
     "status": "completed"
    },
    "tags": []
   },
   "source": [
    "### Q6: What is the highest amount of OvertimePay ?"
   ]
  },
  {
   "cell_type": "code",
   "execution_count": 30,
   "id": "a55171aa",
   "metadata": {
    "execution": {
     "iopub.execute_input": "2022-04-25T22:56:59.448711Z",
     "iopub.status.busy": "2022-04-25T22:56:59.448047Z",
     "iopub.status.idle": "2022-04-25T22:56:59.455812Z",
     "shell.execute_reply": "2022-04-25T22:56:59.454864Z"
    },
    "papermill": {
     "duration": 0.067952,
     "end_time": "2022-04-25T22:56:59.457780",
     "exception": false,
     "start_time": "2022-04-25T22:56:59.389828",
     "status": "completed"
    },
    "tags": []
   },
   "outputs": [
    {
     "data": {
      "text/plain": [
       "96570.66"
      ]
     },
     "execution_count": 30,
     "metadata": {},
     "output_type": "execute_result"
    }
   ],
   "source": [
    "df.OvertimePay.max()"
   ]
  },
  {
   "cell_type": "markdown",
   "id": "bc59b698",
   "metadata": {
    "papermill": {
     "duration": 0.057745,
     "end_time": "2022-04-25T22:56:59.573413",
     "exception": false,
     "start_time": "2022-04-25T22:56:59.515668",
     "status": "completed"
    },
    "tags": []
   },
   "source": [
    "### Q7: How many jobs represented by only one person in 2014?"
   ]
  },
  {
   "cell_type": "code",
   "execution_count": 31,
   "id": "7039e3af",
   "metadata": {
    "execution": {
     "iopub.execute_input": "2022-04-25T22:56:59.695037Z",
     "iopub.status.busy": "2022-04-25T22:56:59.694767Z",
     "iopub.status.idle": "2022-04-25T22:56:59.719403Z",
     "shell.execute_reply": "2022-04-25T22:56:59.718380Z"
    },
    "papermill": {
     "duration": 0.08572,
     "end_time": "2022-04-25T22:56:59.721456",
     "exception": false,
     "start_time": "2022-04-25T22:56:59.635736",
     "status": "completed"
    },
    "tags": []
   },
   "outputs": [
    {
     "data": {
      "text/plain": [
       "171"
      ]
     },
     "execution_count": 31,
     "metadata": {},
     "output_type": "execute_result"
    }
   ],
   "source": [
    "df_2014 = df.query(\"Year == 2014\")\n",
    "(df_2014.JobTitle.value_counts() == 1).sum()"
   ]
  },
  {
   "cell_type": "markdown",
   "id": "df317529",
   "metadata": {
    "papermill": {
     "duration": 0.057788,
     "end_time": "2022-04-25T22:56:59.837392",
     "exception": false,
     "start_time": "2022-04-25T22:56:59.779604",
     "status": "completed"
    },
    "tags": []
   },
   "source": [
    "### Q8: What is Elizabeth Gordon's job?"
   ]
  },
  {
   "cell_type": "code",
   "execution_count": 32,
   "id": "486614a0",
   "metadata": {
    "execution": {
     "iopub.execute_input": "2022-04-25T22:56:59.956959Z",
     "iopub.status.busy": "2022-04-25T22:56:59.956691Z",
     "iopub.status.idle": "2022-04-25T22:57:00.052569Z",
     "shell.execute_reply": "2022-04-25T22:57:00.051387Z"
    },
    "papermill": {
     "duration": 0.158097,
     "end_time": "2022-04-25T22:57:00.054786",
     "exception": false,
     "start_time": "2022-04-25T22:56:59.896689",
     "status": "completed"
    },
    "tags": []
   },
   "outputs": [
    {
     "data": {
      "text/plain": [
       "27454    MEDICAL EVALUATIONS ASSISTANT\n",
       "Name: JobTitle, dtype: string"
      ]
     },
     "execution_count": 32,
     "metadata": {},
     "output_type": "execute_result"
    }
   ],
   "source": [
    "# Note: Capital and lowercase letters must be taken into account.\n",
    "\n",
    "df[df['EmployeeName'].str.lower() == 'Elizabeth Gordon'.lower()]['JobTitle']"
   ]
  },
  {
   "cell_type": "markdown",
   "id": "c026da8c",
   "metadata": {
    "papermill": {
     "duration": 0.058014,
     "end_time": "2022-04-25T22:57:00.171872",
     "exception": false,
     "start_time": "2022-04-25T22:57:00.113858",
     "status": "completed"
    },
    "tags": []
   },
   "source": [
    "### Q9: What is the base salary growth rate each year?"
   ]
  },
  {
   "cell_type": "code",
   "execution_count": 33,
   "id": "0952ee09",
   "metadata": {
    "execution": {
     "iopub.execute_input": "2022-04-25T22:57:00.290821Z",
     "iopub.status.busy": "2022-04-25T22:57:00.290544Z",
     "iopub.status.idle": "2022-04-25T22:57:00.487300Z",
     "shell.execute_reply": "2022-04-25T22:57:00.486490Z"
    },
    "papermill": {
     "duration": 0.25867,
     "end_time": "2022-04-25T22:57:00.489476",
     "exception": false,
     "start_time": "2022-04-25T22:57:00.230806",
     "status": "completed"
    },
    "tags": []
   },
   "outputs": [
    {
     "data": {
      "image/png": "[encoded data removed]",
      "text/plain": [
       "<Figure size 432x288 with 1 Axes>"
      ]
     },
     "metadata": {
      "needs_background": "light"
     },
     "output_type": "display_data"
    }
   ],
   "source": [
    "# grouped data to show BasePay respect year\n",
    "salary_growth = df_new.groupby('Year')['BasePay'].mean()\n",
    "salary_growth.plot(x='Year', y='BasePay', kind=\"line\")\n",
    "plt.show()"
   ]
  },
  {
   "cell_type": "code",
   "execution_count": 34,
   "id": "98f736c9",
   "metadata": {
    "execution": {
     "iopub.execute_input": "2022-04-25T22:57:00.615370Z",
     "iopub.status.busy": "2022-04-25T22:57:00.614946Z",
     "iopub.status.idle": "2022-04-25T22:57:00.621574Z",
     "shell.execute_reply": "2022-04-25T22:57:00.620770Z"
    },
    "papermill": {
     "duration": 0.072294,
     "end_time": "2022-04-25T22:57:00.623370",
     "exception": false,
     "start_time": "2022-04-25T22:57:00.551076",
     "status": "completed"
    },
    "tags": []
   },
   "outputs": [
    {
     "data": {
      "text/plain": [
       "Year\n",
       "2011    63504.192254\n",
       "2012    64766.501717\n",
       "2013    68434.485264\n",
       "2014    65583.305586\n",
       "Name: BasePay, dtype: float64"
      ]
     },
     "execution_count": 34,
     "metadata": {},
     "output_type": "execute_result"
    }
   ],
   "source": [
    "salary_growth"
   ]
  },
  {
   "cell_type": "markdown",
   "id": "f8748f6a",
   "metadata": {
    "papermill": {
     "duration": 0.058844,
     "end_time": "2022-04-25T22:57:00.742174",
     "exception": false,
     "start_time": "2022-04-25T22:57:00.683330",
     "status": "completed"
    },
    "tags": []
   },
   "source": [
    "# conclusions"
   ]
  },
  {
   "cell_type": "markdown",
   "id": "544b0682",
   "metadata": {
    "papermill": {
     "duration": 0.060322,
     "end_time": "2022-04-25T22:57:00.862085",
     "exception": false,
     "start_time": "2022-04-25T22:57:00.801763",
     "status": "completed"
    },
    "tags": []
   },
   "source": [
    "1. Average BasePay: 65591.25521509517.\n",
    "1. Most common jobs (Transit Operator, Special Nurse, Registered Nurse).\n",
    "1. Average BasePay of employees as a transit operator: 51898.32714173816.\n",
    "1. Job of the person with the highest BasePay: Chief of Police.\n",
    "1. Fely Alminiana work as Asst General Services Managerperson and he gets the most benefits in relation to his basic salary.\n",
    "1. The highest amount of OvertimePay: 96570.66.\n",
    "1. There is 171 jobs represented by only one person in 2014.\n",
    "1. There was an increase in average salaries from 2011 (average 63504.192) to 2013 (average 68434.485) until it decreased in 2014 to (65583.305)"
   ]
  }
 ],
 "metadata": {
  "kernelspec": {
   "display_name": "Python 3",
   "language": "python",
   "name": "python3"
  },
  "language_info": {
   "codemirror_mode": {
    "name": "ipython",
    "version": 3
   },
   "file_extension": ".py",
   "mimetype": "text/x-python",
   "name": "python",
   "nbconvert_exporter": "python",
   "pygments_lexer": "ipython3",
   "version": "3.7.12"
  },
  "papermill": {
   "default_parameters": {},
   "duration": 20.93506,
   "end_time": "2022-04-25T22:57:01.645507",
   "environment_variables": {},
   "exception": null,
   "input_path": "__notebook__.ipynb",
   "output_path": "__notebook__.ipynb",
   "parameters": {},
   "start_time": "2022-04-25T22:56:40.710447",
   "version": "2.3.4"
  }
 },
 "nbformat": 4,
 "nbformat_minor": 5
}
